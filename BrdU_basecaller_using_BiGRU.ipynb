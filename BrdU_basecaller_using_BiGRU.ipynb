{
  "cells": [
    {
      "cell_type": "code",
      "execution_count": 1,
      "metadata": {
        "id": "VdqFkjRRng9U"
      },
      "outputs": [],
      "source": [
        "import os\n",
        "os.environ['TF_CP_MIN_LOG_LEVEL'] = '2'\n",
        "\n",
        "import numpy as np\n",
        "import tensorflow as tf\n",
        "from tensorflow import keras\n",
        "from tensorflow.keras import layers\n",
        "import pandas as pd\n",
        "import pickle\n",
        "import matplotlib.pyplot as plt\n",
        "import seaborn as sns"
      ]
    },
    {
      "cell_type": "markdown",
      "metadata": {
        "id": "M89GSY_coE77"
      },
      "source": [
        "GPU setting. It isn't neccessary in CoLab."
      ]
    },
    {
      "cell_type": "code",
      "execution_count": null,
      "metadata": {
        "colab": {
          "base_uri": "https://localhost:8080/"
        },
        "id": "JUgA081MoMA4",
        "outputId": "b37a6589-5927-496b-8209-5a8930c30e4b"
      },
      "outputs": [
        {
          "output_type": "stream",
          "name": "stdout",
          "text": [
            "[]\n"
          ]
        }
      ],
      "source": [
        "physical_devices = tf.config.list_physical_devices('GPU')\n",
        "print(physical_devices)"
      ]
    },
    {
      "cell_type": "markdown",
      "source": [
        "**Load synthetic 5-mer traning data**"
      ],
      "metadata": {
        "id": "JHXntsenymt9"
      }
    },
    {
      "cell_type": "code",
      "execution_count": null,
      "metadata": {
        "colab": {
          "base_uri": "https://localhost:8080/"
        },
        "id": "QHGHHSvCpWDE",
        "outputId": "616d7d10-1097-4d92-866b-a2f0b03b73c7"
      },
      "outputs": [
        {
          "output_type": "stream",
          "name": "stdout",
          "text": [
            "(214966, 5)\n",
            "(214966, 5, 7)\n"
          ]
        }
      ],
      "source": [
        "with open('/content/drive/MyDrive/009.1.mid.position.base.array.pkl', 'rb') as file:\n",
        "    y_arr =pickle.load(file)\n",
        "with open('/content/drive/MyDrive/009.2.5mer.feature.pkl', 'rb') as file:\n",
        "    x_arr_3d = pickle.load(file)\n",
        "print(y_arr.shape)\n",
        "print(x_arr_3d.shape)"
      ]
    },
    {
      "cell_type": "markdown",
      "source": [
        "**Load mouse cell line 5-mer data, no BrdU labeling to supplement the synthetic 5-mer training data**"
      ],
      "metadata": {
        "id": "jk-0q3rfyv_S"
      }
    },
    {
      "cell_type": "code",
      "source": [
        "\n",
        "mouse_x = np.load(\"/content/drive/MyDrive/mouse.combined_array.npy\")"
      ],
      "metadata": {
        "id": "w417re13DSDF"
      },
      "execution_count": null,
      "outputs": []
    },
    {
      "cell_type": "code",
      "source": [
        "print(mouse_x.shape)"
      ],
      "metadata": {
        "colab": {
          "base_uri": "https://localhost:8080/"
        },
        "id": "135nXZaeFouF",
        "outputId": "b5bce4bd-f6e5-45d1-9912-5580d1e70579"
      },
      "execution_count": null,
      "outputs": [
        {
          "output_type": "stream",
          "name": "stdout",
          "text": [
            "(8279453, 5, 7)\n"
          ]
        }
      ]
    },
    {
      "cell_type": "markdown",
      "source": [
        "**Generate lables for the mouse 5-mer data: the middle bases are all Ts**"
      ],
      "metadata": {
        "id": "V3HvOfsszS5g"
      }
    },
    {
      "cell_type": "code",
      "source": [
        "#generate labels for mouse 5mers, which are Ts always\n",
        "mouse_y = np.full((mouse_x.shape[0], 1), \"T\")\n",
        "\n",
        "# convert dummies using the universe [\"A\", \"B\" \"C\", \"G\", \"T\"]\n",
        "# using some trick\n",
        "aplhabets = np.array([\"A\", \"B\", \"C\", \"G\", \"T\"]).reshape(5, 1)\n",
        "\n",
        "mouse_y_p = np.vstack((aplhabets,mouse_y), dtype=object)\n",
        "mouse_label = pd.get_dummies(mouse_y_p.ravel(), dtype=float).values\n",
        "\n",
        "# remove the first 5 rows which was added so that one-hot encoding work properly\n",
        "mouse_label = mouse_label[5:, :]"
      ],
      "metadata": {
        "id": "SJzFHJWtDOas"
      },
      "execution_count": null,
      "outputs": []
    },
    {
      "cell_type": "markdown",
      "source": [
        "**Prepare mouse 5-mer data for training**"
      ],
      "metadata": {
        "id": "UX2OiRpW0CLL"
      }
    },
    {
      "cell_type": "code",
      "source": [
        "# shuffle mouse_x and mouse_label\n",
        "from sklearn.utils import shuffle\n",
        "from sklearn.model_selection import train_test_split\n",
        "\n",
        "n_shuffles = 5\n",
        "for i in range(n_shuffles):\n",
        "    mouse_x, mouse_label = shuffle(mouse_x, mouse_label, random_state= i )\n",
        "# split mouse_x and mouse_label for training\n",
        "X_train_mouse, X_test_mouse, y_train_mouse, y_test_mouse = \\\n",
        "         train_test_split(mouse_x, mouse_label, test_size=0.99, random_state=42)\n"
      ],
      "metadata": {
        "id": "PIfGvUkqFNRW"
      },
      "execution_count": null,
      "outputs": []
    },
    {
      "cell_type": "code",
      "source": [
        "print(X_train_mouse.shape)\n",
        "print(y_train_mouse.shape)\n",
        "print(X_test_mouse.shape)\n",
        "print(y_test_mouse.shape)"
      ],
      "metadata": {
        "colab": {
          "base_uri": "https://localhost:8080/"
        },
        "id": "29MCG784H_2p",
        "outputId": "2535ebde-e7ed-4fe2-f0d4-bbc1bc3b7dc4"
      },
      "execution_count": null,
      "outputs": [
        {
          "output_type": "stream",
          "name": "stdout",
          "text": [
            "(82794, 5, 7)\n",
            "(82794, 5)\n",
            "(8196659, 5, 7)\n",
            "(8196659, 5)\n"
          ]
        }
      ]
    },
    {
      "cell_type": "markdown",
      "source": [
        "**Prepare synthetic 5-mer data for training**"
      ],
      "metadata": {
        "id": "Mthz_hgFz6sc"
      }
    },
    {
      "cell_type": "code",
      "execution_count": null,
      "metadata": {
        "colab": {
          "base_uri": "https://localhost:8080/"
        },
        "id": "6FM1dDpmrymW",
        "outputId": "649e8ce9-be10-4898-9a0e-be36a333221d"
      },
      "outputs": [
        {
          "output_type": "stream",
          "name": "stdout",
          "text": [
            "(171972, 5, 7)\n",
            "(171972, 5)\n",
            "(42994, 5, 7)\n",
            "(42994, 5)\n"
          ]
        }
      ],
      "source": [
        "\n",
        "n_shuffles = 5\n",
        "\n",
        "for i in range(n_shuffles):\n",
        "    x_arr_3d, y_arr = shuffle(x_arr_3d, y_arr, random_state= i )\n",
        "\n",
        "\n",
        "X_train, X_test, y_train, y_test = train_test_split(x_arr_3d, y_arr, test_size=0.2, random_state=42)\n",
        "print(X_train.shape)\n",
        "print(y_train.shape)\n",
        "print(X_test.shape)\n",
        "print(y_test.shape)"
      ]
    },
    {
      "cell_type": "markdown",
      "source": [
        "**Combine the mouse and synthetic 5-mer data for training**"
      ],
      "metadata": {
        "id": "ae0KFVSO0Tro"
      }
    },
    {
      "cell_type": "code",
      "source": [
        "##combine X_train_mouse with X_train and combine y_train_mouse with y_train\n",
        "X_train = np.concatenate((X_train, X_train_mouse), axis=0)\n",
        "y_train = np.concatenate((y_train, y_train_mouse), axis=0)\n",
        "\n",
        "## shuffle  X_train and y_train\n",
        "X_train, y_train = shuffle(X_train, y_train, random_state= 100)\n",
        "print(X_train.shape)\n",
        "print(y_train.shape)"
      ],
      "metadata": {
        "colab": {
          "base_uri": "https://localhost:8080/"
        },
        "id": "bwchFvaYJdsT",
        "outputId": "20bb2a99-6668-48e1-a81d-1f5f9bde7967"
      },
      "execution_count": null,
      "outputs": [
        {
          "output_type": "stream",
          "name": "stdout",
          "text": [
            "(254766, 5, 7)\n",
            "(254766, 5)\n"
          ]
        }
      ]
    },
    {
      "cell_type": "markdown",
      "source": [
        "**Handle imbalanced data with class weight**"
      ],
      "metadata": {
        "id": "FlCaP5N407DI"
      }
    },
    {
      "cell_type": "code",
      "execution_count": null,
      "metadata": {
        "colab": {
          "base_uri": "https://localhost:8080/"
        },
        "id": "2A8D9jJDB2ne",
        "outputId": "f4df4d1a-9458-431e-a86d-c22958255c8c"
      },
      "outputs": [
        {
          "output_type": "stream",
          "name": "stdout",
          "text": [
            "{0: np.float64(1.1497698348226375), 1: np.float64(2.229899343544858), 2: np.float64(1.1696976653428526), 3: np.float64(1.5447385175079582), 4: np.float64(0.4588146307201902)}\n"
          ]
        }
      ],
      "source": [
        "from sklearn.utils import class_weight\n",
        "\n",
        "y_train_labels= np.where(y_train==1)[1]\n",
        "class_weights = class_weight.compute_class_weight('balanced',\n",
        "                                                  classes=np.unique(y_train_labels),\n",
        "                                                  y=y_train_labels)\n",
        "class_weights_dict = dict(enumerate(class_weights))\n",
        "print(class_weights_dict)"
      ]
    },
    {
      "cell_type": "markdown",
      "source": [
        "**Specify model layout**"
      ],
      "metadata": {
        "id": "M0ebwMH71Uw1"
      }
    },
    {
      "cell_type": "code",
      "execution_count": null,
      "metadata": {
        "colab": {
          "base_uri": "https://localhost:8080/",
          "height": 272
        },
        "id": "vEZx7Pf3sfDh",
        "outputId": "4380a08c-97f9-42b9-a0e8-32525c369fb9"
      },
      "outputs": [
        {
          "output_type": "display_data",
          "data": {
            "text/plain": [
              "\u001b[1mModel: \"sequential_2\"\u001b[0m\n"
            ],
            "text/html": [
              "<pre style=\"white-space:pre;overflow-x:auto;line-height:normal;font-family:Menlo,'DejaVu Sans Mono',consolas,'Courier New',monospace\"><span style=\"font-weight: bold\">Model: \"sequential_2\"</span>\n",
              "</pre>\n"
            ]
          },
          "metadata": {}
        },
        {
          "output_type": "display_data",
          "data": {
            "text/plain": [
              "┏━━━━━━━━━━━━━━━━━━━━━━━━━━━━━━━━━━━━━━┳━━━━━━━━━━━━━━━━━━━━━━━━━━━━━┳━━━━━━━━━━━━━━━━━┓\n",
              "┃\u001b[1m \u001b[0m\u001b[1mLayer (type)                        \u001b[0m\u001b[1m \u001b[0m┃\u001b[1m \u001b[0m\u001b[1mOutput Shape               \u001b[0m\u001b[1m \u001b[0m┃\u001b[1m \u001b[0m\u001b[1m        Param #\u001b[0m\u001b[1m \u001b[0m┃\n",
              "┡━━━━━━━━━━━━━━━━━━━━━━━━━━━━━━━━━━━━━━╇━━━━━━━━━━━━━━━━━━━━━━━━━━━━━╇━━━━━━━━━━━━━━━━━┩\n",
              "│ bidirectional_6 (\u001b[38;5;33mBidirectional\u001b[0m)      │ (\u001b[38;5;45mNone\u001b[0m, \u001b[38;5;34m5\u001b[0m, \u001b[38;5;34m256\u001b[0m)              │         \u001b[38;5;34m105,216\u001b[0m │\n",
              "├──────────────────────────────────────┼─────────────────────────────┼─────────────────┤\n",
              "│ bidirectional_7 (\u001b[38;5;33mBidirectional\u001b[0m)      │ (\u001b[38;5;45mNone\u001b[0m, \u001b[38;5;34m5\u001b[0m, \u001b[38;5;34m256\u001b[0m)              │         \u001b[38;5;34m296,448\u001b[0m │\n",
              "├──────────────────────────────────────┼─────────────────────────────┼─────────────────┤\n",
              "│ bidirectional_8 (\u001b[38;5;33mBidirectional\u001b[0m)      │ (\u001b[38;5;45mNone\u001b[0m, \u001b[38;5;34m256\u001b[0m)                 │         \u001b[38;5;34m296,448\u001b[0m │\n",
              "├──────────────────────────────────────┼─────────────────────────────┼─────────────────┤\n",
              "│ dense_2 (\u001b[38;5;33mDense\u001b[0m)                      │ (\u001b[38;5;45mNone\u001b[0m, \u001b[38;5;34m5\u001b[0m)                   │           \u001b[38;5;34m1,285\u001b[0m │\n",
              "└──────────────────────────────────────┴─────────────────────────────┴─────────────────┘\n"
            ],
            "text/html": [
              "<pre style=\"white-space:pre;overflow-x:auto;line-height:normal;font-family:Menlo,'DejaVu Sans Mono',consolas,'Courier New',monospace\">┏━━━━━━━━━━━━━━━━━━━━━━━━━━━━━━━━━━━━━━┳━━━━━━━━━━━━━━━━━━━━━━━━━━━━━┳━━━━━━━━━━━━━━━━━┓\n",
              "┃<span style=\"font-weight: bold\"> Layer (type)                         </span>┃<span style=\"font-weight: bold\"> Output Shape                </span>┃<span style=\"font-weight: bold\">         Param # </span>┃\n",
              "┡━━━━━━━━━━━━━━━━━━━━━━━━━━━━━━━━━━━━━━╇━━━━━━━━━━━━━━━━━━━━━━━━━━━━━╇━━━━━━━━━━━━━━━━━┩\n",
              "│ bidirectional_6 (<span style=\"color: #0087ff; text-decoration-color: #0087ff\">Bidirectional</span>)      │ (<span style=\"color: #00d7ff; text-decoration-color: #00d7ff\">None</span>, <span style=\"color: #00af00; text-decoration-color: #00af00\">5</span>, <span style=\"color: #00af00; text-decoration-color: #00af00\">256</span>)              │         <span style=\"color: #00af00; text-decoration-color: #00af00\">105,216</span> │\n",
              "├──────────────────────────────────────┼─────────────────────────────┼─────────────────┤\n",
              "│ bidirectional_7 (<span style=\"color: #0087ff; text-decoration-color: #0087ff\">Bidirectional</span>)      │ (<span style=\"color: #00d7ff; text-decoration-color: #00d7ff\">None</span>, <span style=\"color: #00af00; text-decoration-color: #00af00\">5</span>, <span style=\"color: #00af00; text-decoration-color: #00af00\">256</span>)              │         <span style=\"color: #00af00; text-decoration-color: #00af00\">296,448</span> │\n",
              "├──────────────────────────────────────┼─────────────────────────────┼─────────────────┤\n",
              "│ bidirectional_8 (<span style=\"color: #0087ff; text-decoration-color: #0087ff\">Bidirectional</span>)      │ (<span style=\"color: #00d7ff; text-decoration-color: #00d7ff\">None</span>, <span style=\"color: #00af00; text-decoration-color: #00af00\">256</span>)                 │         <span style=\"color: #00af00; text-decoration-color: #00af00\">296,448</span> │\n",
              "├──────────────────────────────────────┼─────────────────────────────┼─────────────────┤\n",
              "│ dense_2 (<span style=\"color: #0087ff; text-decoration-color: #0087ff\">Dense</span>)                      │ (<span style=\"color: #00d7ff; text-decoration-color: #00d7ff\">None</span>, <span style=\"color: #00af00; text-decoration-color: #00af00\">5</span>)                   │           <span style=\"color: #00af00; text-decoration-color: #00af00\">1,285</span> │\n",
              "└──────────────────────────────────────┴─────────────────────────────┴─────────────────┘\n",
              "</pre>\n"
            ]
          },
          "metadata": {}
        },
        {
          "output_type": "display_data",
          "data": {
            "text/plain": [
              "\u001b[1m Total params: \u001b[0m\u001b[38;5;34m699,397\u001b[0m (2.67 MB)\n"
            ],
            "text/html": [
              "<pre style=\"white-space:pre;overflow-x:auto;line-height:normal;font-family:Menlo,'DejaVu Sans Mono',consolas,'Courier New',monospace\"><span style=\"font-weight: bold\"> Total params: </span><span style=\"color: #00af00; text-decoration-color: #00af00\">699,397</span> (2.67 MB)\n",
              "</pre>\n"
            ]
          },
          "metadata": {}
        },
        {
          "output_type": "display_data",
          "data": {
            "text/plain": [
              "\u001b[1m Trainable params: \u001b[0m\u001b[38;5;34m699,397\u001b[0m (2.67 MB)\n"
            ],
            "text/html": [
              "<pre style=\"white-space:pre;overflow-x:auto;line-height:normal;font-family:Menlo,'DejaVu Sans Mono',consolas,'Courier New',monospace\"><span style=\"font-weight: bold\"> Trainable params: </span><span style=\"color: #00af00; text-decoration-color: #00af00\">699,397</span> (2.67 MB)\n",
              "</pre>\n"
            ]
          },
          "metadata": {}
        },
        {
          "output_type": "display_data",
          "data": {
            "text/plain": [
              "\u001b[1m Non-trainable params: \u001b[0m\u001b[38;5;34m0\u001b[0m (0.00 B)\n"
            ],
            "text/html": [
              "<pre style=\"white-space:pre;overflow-x:auto;line-height:normal;font-family:Menlo,'DejaVu Sans Mono',consolas,'Courier New',monospace\"><span style=\"font-weight: bold\"> Non-trainable params: </span><span style=\"color: #00af00; text-decoration-color: #00af00\">0</span> (0.00 B)\n",
              "</pre>\n"
            ]
          },
          "metadata": {}
        },
        {
          "output_type": "stream",
          "name": "stdout",
          "text": [
            "None\n"
          ]
        }
      ],
      "source": [
        "model = keras.Sequential([\n",
        "    # tf.keras.Input()-- instantiate a Keras tensor\n",
        "    # In TensorFlow Keras, input layers are essential for defining the expected\n",
        "    # shape and data type of input data for a neural network. There are two primary\n",
        "    #  ways to define input layers: keras.Input and keras.layers.InputLayer.\n",
        "    # --keras.Input: This approach is often favored for its conciseness and flexibility,\n",
        "    #  especially when building models using the Functional API. It directly creates a\n",
        "    # symbolic tensor-like object representing the input.\n",
        "    # Define an input layer for a sequence of 5 time steps with 7 features each\n",
        "    # None for batch size\n",
        "    keras.Input(shape = (5,7), dtype = \"float32\"),\n",
        "    layers.Bidirectional(layers.GRU(units=128, return_sequences=True)),\n",
        "    layers.Bidirectional(layers.GRU(units=128, return_sequences=True)),\n",
        "    layers.Bidirectional(layers.GRU(units=128)),\n",
        "    layers.Dense(units = 5, activation='softmax')\n",
        "])\n",
        "print(model.summary())"
      ]
    },
    {
      "cell_type": "markdown",
      "source": [
        "**Compile and fit the model**"
      ],
      "metadata": {
        "id": "b8KgIo-J1cRZ"
      }
    },
    {
      "cell_type": "code",
      "execution_count": null,
      "metadata": {
        "id": "oF_zlqNut0uc"
      },
      "outputs": [],
      "source": [
        "model.compile(optimizer= tf.keras.optimizers.Adam(learning_rate = 0.001),\n",
        "              # If you want to provide labels using one-hot representation, please use CategoricalCrossentropy loss\n",
        "              # from_logits in keras.losses.CategoricalCrossentropy should be set to True when the\n",
        "              # output of your model's last layer has not passed through a softmax\n",
        "              # activation function.\n",
        "              loss=tf.keras.losses.CategoricalCrossentropy(\n",
        "                    from_logits=False,\n",
        "                    label_smoothing=0.0,\n",
        "                    axis=-1,\n",
        "                    reduction='sum_over_batch_size',\n",
        "                    name='categorical_crossentropy'\n",
        "                  ),\n",
        "              loss_weights = None,\n",
        "              metrics=['categorical_accuracy', 'precision', 'recall',\n",
        "                       keras.metrics.AUC(name='prc', curve='PR')])"
      ]
    },
    {
      "cell_type": "code",
      "execution_count": null,
      "metadata": {
        "colab": {
          "base_uri": "https://localhost:8080/"
        },
        "id": "BUU-DSMWvZKt",
        "outputId": "59217113-5ddc-4b58-f235-60a969868277"
      },
      "outputs": [
        {
          "output_type": "stream",
          "name": "stdout",
          "text": [
            "Epoch 1/10\n",
            "1991/1991 - 295s - 148ms/step - categorical_accuracy: 0.8530 - loss: 0.2782 - prc: 0.9450 - precision: 0.8735 - recall: 0.8374\n",
            "Epoch 2/10\n",
            "1991/1991 - 262s - 132ms/step - categorical_accuracy: 0.9162 - loss: 0.1647 - prc: 0.9762 - precision: 0.9171 - recall: 0.9153\n",
            "Epoch 3/10\n",
            "1991/1991 - 263s - 132ms/step - categorical_accuracy: 0.9275 - loss: 0.1455 - prc: 0.9812 - precision: 0.9284 - recall: 0.9266\n",
            "Epoch 4/10\n",
            "1991/1991 - 321s - 161ms/step - categorical_accuracy: 0.9338 - loss: 0.1332 - prc: 0.9841 - precision: 0.9346 - recall: 0.9331\n",
            "Epoch 5/10\n",
            "1991/1991 - 323s - 162ms/step - categorical_accuracy: 0.9394 - loss: 0.1229 - prc: 0.9861 - precision: 0.9401 - recall: 0.9385\n",
            "Epoch 6/10\n",
            "1991/1991 - 323s - 162ms/step - categorical_accuracy: 0.9429 - loss: 0.1125 - prc: 0.9879 - precision: 0.9438 - recall: 0.9422\n",
            "Epoch 7/10\n",
            "1991/1991 - 321s - 161ms/step - categorical_accuracy: 0.9481 - loss: 0.1017 - prc: 0.9896 - precision: 0.9488 - recall: 0.9475\n",
            "Epoch 8/10\n",
            "1991/1991 - 321s - 161ms/step - categorical_accuracy: 0.9524 - loss: 0.0915 - prc: 0.9910 - precision: 0.9530 - recall: 0.9518\n",
            "Epoch 9/10\n",
            "1991/1991 - 260s - 131ms/step - categorical_accuracy: 0.9569 - loss: 0.0817 - prc: 0.9922 - precision: 0.9575 - recall: 0.9564\n",
            "Epoch 10/10\n",
            "1991/1991 - 262s - 132ms/step - categorical_accuracy: 0.9621 - loss: 0.0706 - prc: 0.9937 - precision: 0.9626 - recall: 0.9617\n"
          ]
        },
        {
          "output_type": "execute_result",
          "data": {
            "text/plain": [
              "<keras.src.callbacks.history.History at 0x7a7b47655d10>"
            ]
          },
          "metadata": {},
          "execution_count": 37
        }
      ],
      "source": [
        "model.fit(X_train, y_train,\n",
        "          batch_size = 128,\n",
        "          # An epoch, in Machine Learning, is the entire processing\n",
        "          # by the learning algorithm of the entire train-set.\n",
        "          epochs = 10,\n",
        "          class_weight = class_weights_dict,\n",
        "          verbose = 2)"
      ]
    },
    {
      "cell_type": "markdown",
      "source": [
        "**Evaluate the model with testing data**"
      ],
      "metadata": {
        "id": "AD8XrKlG1jg9"
      }
    },
    {
      "cell_type": "code",
      "execution_count": null,
      "metadata": {
        "colab": {
          "base_uri": "https://localhost:8080/"
        },
        "id": "P0Lnz8S235Y3",
        "outputId": "1c06e3d4-8905-4ac0-9f01-ab1553cedac9"
      },
      "outputs": [
        {
          "output_type": "stream",
          "name": "stdout",
          "text": [
            "336/336 - 15s - 44ms/step - categorical_accuracy: 0.9398 - loss: 0.1888 - prc: 0.9807 - precision: 0.9403 - recall: 0.9396\n"
          ]
        },
        {
          "output_type": "execute_result",
          "data": {
            "text/plain": [
              "[0.1887774020433426,\n",
              " 0.9398055672645569,\n",
              " 0.940274178981781,\n",
              " 0.9395962357521057,\n",
              " 0.9806562662124634]"
            ]
          },
          "metadata": {},
          "execution_count": 38
        }
      ],
      "source": [
        "model.evaluate(X_test, y_test,\n",
        "               batch_size = 128,\n",
        "               verbose = 2)"
      ]
    },
    {
      "cell_type": "code",
      "execution_count": null,
      "metadata": {
        "id": "5xBdf3tY4U6v"
      },
      "outputs": [],
      "source": [
        "print(\"model.input_shape:\", model.input_shape)"
      ]
    },
    {
      "cell_type": "code",
      "execution_count": null,
      "metadata": {
        "id": "L8nmyH8zrb1Y",
        "colab": {
          "base_uri": "https://localhost:8080/"
        },
        "outputId": "4ba3e3ae-d2e3-405e-9ff6-5badba65b22c"
      },
      "outputs": [
        {
          "output_type": "stream",
          "name": "stdout",
          "text": [
            "[2 2 4 ... 1 0 1]\n",
            "\u001b[1m1344/1344\u001b[0m \u001b[32m━━━━━━━━━━━━━━━━━━━━\u001b[0m\u001b[37m\u001b[0m \u001b[1m22s\u001b[0m 15ms/step\n"
          ]
        }
      ],
      "source": [
        "## confusion matrix\n",
        "labels= np.where(y_test==1)[1]\n",
        "predictions = model.predict(X_test)\n"
      ]
    },
    {
      "cell_type": "code",
      "source": [
        "def softmax_to_label(softmax_output):\n",
        "  \"\"\"Converts softmax probabilities to a label encoded value.\n",
        "\n",
        "  Args:\n",
        "    softmax_output: A list or numpy array of probabilities.\n",
        "\n",
        "  Returns:\n",
        "    The index of the highest probability.\n",
        "  \"\"\"\n",
        "  return np.argmax(softmax_output)"
      ],
      "metadata": {
        "id": "rhPMiwESoXf8"
      },
      "execution_count": null,
      "outputs": []
    },
    {
      "cell_type": "markdown",
      "source": [
        "**Show the confusion matrix**"
      ],
      "metadata": {
        "id": "y9JCe7lx28mw"
      }
    },
    {
      "cell_type": "code",
      "execution_count": null,
      "metadata": {
        "colab": {
          "base_uri": "https://localhost:8080/"
        },
        "id": "jQQUQM7X7cFj",
        "outputId": "0b2288ef-1488-4f3b-e682-4acc39c867ed"
      },
      "outputs": [
        {
          "output_type": "stream",
          "name": "stdout",
          "text": [
            "42994\n",
            "[[11320    19    20    13    13]\n",
            " [   13  4758    12    13   873]\n",
            " [   15    22 10811    14    20]\n",
            " [   18    12    18  8004    10]\n",
            " [   20  1432    17    14  5513]]\n"
          ]
        }
      ],
      "source": [
        "predictions_label = np.apply_along_axis(softmax_to_label,  1, predictions)\n",
        "print(len(predictions_label))\n",
        "confusion_matrix = tf.math.confusion_matrix(labels,\n",
        "                                           predictions_label,\n",
        "                                           num_classes=5)\n",
        "\n",
        "# Print the confusion matrix\n",
        "print(confusion_matrix.numpy())"
      ]
    },
    {
      "cell_type": "code",
      "execution_count": null,
      "metadata": {
        "colab": {
          "base_uri": "https://localhost:8080/",
          "height": 564
        },
        "id": "vHBpzPpw9vkw",
        "outputId": "a6b341cc-28a5-4d72-93fd-ca07ae7560ed"
      },
      "outputs": [
        {
          "output_type": "display_data",
          "data": {
            "text/plain": [
              "<Figure size 800x600 with 2 Axes>"
            ],
            "image/png": "[encoded data removed]"
          },
          "metadata": {}
        }
      ],
      "source": [
        "import matplotlib.pyplot as plt\n",
        "import seaborn as sns\n",
        "import numpy as np\n",
        "\n",
        "class_names = [\"A\",\"B\", \"C\", \"G\", \"T\"]\n",
        "def plot_confusion_matrix(cm, class_names):\n",
        "    plt.figure(figsize=(8, 6))\n",
        "    sns.heatmap(cm, annot=True, fmt='d', cmap='Blues',\n",
        "                xticklabels=class_names,\n",
        "                yticklabels=class_names)\n",
        "    plt.xlabel('Predicted Label')\n",
        "    plt.ylabel('True Label')\n",
        "    plt.title('Confusion Matrix')\n",
        "    plt.show()\n",
        "\n",
        "\n",
        "plot_confusion_matrix(confusion_matrix.numpy(), class_names)\n",
        "# Evaluate the confusion matrix within a TensorFlow session or eager context\n",
        "# with tf.compat.v1.Session() as sess:\n",
        "#     np_cm = sess.run(confusion_matrix)\n",
        "#     plot_confusion_matrix(np_cm, class_names)"
      ]
    },
    {
      "cell_type": "markdown",
      "source": [
        "**Test the model using more mouse testing data**"
      ],
      "metadata": {
        "id": "Kt0nlGnm3PLx"
      }
    },
    {
      "cell_type": "code",
      "source": [
        "# for mouse data, negative data\n",
        "model.evaluate(X_test_mouse[1:100000], y_test_mouse[1:100000],\n",
        "               batch_size = 128,\n",
        "               verbose = 2)"
      ],
      "metadata": {
        "colab": {
          "base_uri": "https://localhost:8080/"
        },
        "id": "Mtp0djCjfrrr",
        "outputId": "96db536a-d61d-46ca-8064-c4fe41a99592"
      },
      "execution_count": null,
      "outputs": [
        {
          "output_type": "stream",
          "name": "stdout",
          "text": [
            "782/782 - 29s - 38ms/step - categorical_accuracy: 0.9655 - loss: 0.0880 - prc: 0.9946 - precision: 0.9659 - recall: 0.9652\n"
          ]
        },
        {
          "output_type": "execute_result",
          "data": {
            "text/plain": [
              "[0.08798833191394806,\n",
              " 0.9655096530914307,\n",
              " 0.9658851027488708,\n",
              " 0.9651896357536316,\n",
              " 0.9946462512016296]"
            ]
          },
          "metadata": {},
          "execution_count": 53
        }
      ]
    },
    {
      "cell_type": "code",
      "source": [
        "## confusion matrix\n",
        "labels= np.where(y_test_mouse[1:100000]==1)[1]\n",
        "print(labels)\n",
        "predictions = model.predict(X_test_mouse[1:100000])"
      ],
      "metadata": {
        "colab": {
          "base_uri": "https://localhost:8080/"
        },
        "id": "pVjuWiK0frcd",
        "outputId": "c88fb14a-2b45-41b0-b670-2b6c69b7bc3d"
      },
      "execution_count": null,
      "outputs": [
        {
          "output_type": "stream",
          "name": "stdout",
          "text": [
            "[4 4 4 ... 4 4 4]\n",
            "\u001b[1m3125/3125\u001b[0m \u001b[32m━━━━━━━━━━━━━━━━━━━━\u001b[0m\u001b[37m\u001b[0m \u001b[1m47s\u001b[0m 15ms/step\n"
          ]
        }
      ]
    },
    {
      "cell_type": "code",
      "source": [
        "predictions_label = np.apply_along_axis(softmax_to_label,  1, predictions)\n",
        "print(len(predictions_label))\n",
        "confusion_matrix = tf.math.confusion_matrix(labels,\n",
        "                                           predictions_label,\n",
        "                                           num_classes=5)\n",
        "\n",
        "# Print the confusion matrix\n",
        "print(confusion_matrix.numpy())"
      ],
      "metadata": {
        "colab": {
          "base_uri": "https://localhost:8080/"
        },
        "id": "UnFRjQe0frMD",
        "outputId": "1f8c6208-d970-4ce3-c272-e80bb02de889"
      },
      "execution_count": null,
      "outputs": [
        {
          "output_type": "stream",
          "name": "stdout",
          "text": [
            "99999\n",
            "[[    0     0     0     0     0]\n",
            " [    0     0     0     0     0]\n",
            " [    0     0     0     0     0]\n",
            " [    0     0     0     0     0]\n",
            " [    8  3426     1    14 96550]]\n"
          ]
        }
      ]
    },
    {
      "cell_type": "code",
      "source": [
        "class_names = [\"A\",\"B\", \"C\", \"G\", \"T\"]\n",
        "def plot_confusion_matrix(cm, class_names):\n",
        "    plt.figure(figsize=(8, 6))\n",
        "    sns.heatmap(cm, annot=True, fmt='d', cmap='Blues',\n",
        "                xticklabels=class_names,\n",
        "                yticklabels=class_names)\n",
        "    plt.xlabel('Predicted Label')\n",
        "    plt.ylabel('True Label')\n",
        "    plt.title('Confusion Matrix')\n",
        "    plt.show()\n",
        "\n",
        "\n",
        "plot_confusion_matrix(confusion_matrix.numpy(), class_names)\n",
        "# Evaluate the confusion matrix within a TensorFlow session or eager context\n",
        "# with tf.compat.v1.Session() as sess:\n",
        "#     np_cm = sess.run(confusion_matrix)\n",
        "#     plot_confusion_matrix(np_cm, class_names)"
      ],
      "metadata": {
        "colab": {
          "base_uri": "https://localhost:8080/",
          "height": 564
        },
        "id": "Hw7P5Sxcfq2M",
        "outputId": "d439e7ce-7d87-49f8-a79c-d3de67ad040c"
      },
      "execution_count": null,
      "outputs": [
        {
          "output_type": "display_data",
          "data": {
            "text/plain": [
              "<Figure size 800x600 with 2 Axes>"
            ],
            "image/png": "[encoded data removed]"
          },
          "metadata": {}
        }
      ]
    },
    {
      "cell_type": "markdown",
      "source": [
        "**Save the model because it looks pretty good**"
      ],
      "metadata": {
        "id": "KKh6IhM93paH"
      }
    },
    {
      "cell_type": "code",
      "execution_count": null,
      "metadata": {
        "id": "6D9aJg90I99M"
      },
      "outputs": [],
      "source": [
        "model.save('/content/drive/MyDrive/BrdU.basecaller.model.trained.w.mouse.data.keras')"
      ]
    },
    {
      "cell_type": "code",
      "source": [
        "model = keras.models.load_model('/content/drive/MyDrive/BrdU.basecaller.model.trained.w.mouse.data.keras')"
      ],
      "metadata": {
        "id": "sv6HBSq_mBbK"
      },
      "execution_count": null,
      "outputs": []
    },
    {
      "cell_type": "markdown",
      "source": [
        "**Test the model performance at the read level with the mouse (BrdU-free) and human (~20% of reads are BrdU+) nanopore sequencing data**"
      ],
      "metadata": {
        "id": "KyOx-jyR4CRx"
      }
    },
    {
      "cell_type": "code",
      "execution_count": null,
      "metadata": {
        "id": "XB22ARehPvac"
      },
      "outputs": [],
      "source": [
        "## mouse data\n",
        "out_dir = '/content/drive/MyDrive'\n",
        "filename = 'barcode1.file.names'\n",
        "pickle_files = os.listdir('/content/drive/MyDrive/barcode01')\n",
        "with open(os.path.join(out_dir, ''.join([filename, '.pkl'])), 'wb') as file:\n",
        "       pickle.dump(pickle_files, file)\n",
        "\n",
        "percentages = np.zeros(len(pickle_files))\n",
        "for i, p in enumerate(pickle_files):\n",
        "  with open(f'/content/drive/MyDrive//barcode01/{p}', 'rb') as file:\n",
        "    X_test = pickle.load(file)\n",
        "    predictions = model.predict(X_test, verbose=2)\n",
        "    predictions_labels = np.apply_along_axis(softmax_to_label,  1, predictions)\n",
        "    BrdU_percentage = np.sum(predictions_labels==1)/len(predictions_labels)\n",
        "    percentages[i] = BrdU_percentage"
      ]
    },
    {
      "cell_type": "code",
      "execution_count": null,
      "metadata": {
        "id": "tMsZRIxXRrGH"
      },
      "outputs": [],
      "source": [
        "filename = 'barcode01.BrdU_percentage'\n",
        "with open(os.path.join(out_dir, ''.join([filename, '.pkl'])), 'wb') as file:\n",
        "  pickle.dump(percentages, file)"
      ]
    },
    {
      "cell_type": "code",
      "source": [
        "brdu = np.where(percentages > 0.5)\n",
        "read_id = np.array(pickle_files)[brdu]\n",
        "print(read_id)"
      ],
      "metadata": {
        "id": "CIepX1R6ni2Y"
      },
      "execution_count": null,
      "outputs": []
    },
    {
      "cell_type": "code",
      "source": [
        "##human data\n",
        "out_dir = '/content/drive/MyDrive'\n",
        "filename = 'barcode1.file.names'\n",
        "pickle_files = os.listdir('/content/drive/MyDrive/barcode02')\n",
        "with open(os.path.join(out_dir, ''.join([filename, '.pkl'])), 'wb') as file:\n",
        "       pickle.dump(pickle_files, file)\n",
        "\n",
        "percentages = np.zeros(len(pickle_files))\n",
        "for i, p in enumerate(pickle_files):\n",
        "  with open(f'/content/drive/MyDrive//barcode02/{p}', 'rb') as file:\n",
        "    X_test = pickle.load(file)\n",
        "    predictions = model.predict(X_test, verbose=2)\n",
        "    predictions_labels = np.apply_along_axis(softmax_to_label,  1, predictions)\n",
        "    BrdU_percentage = np.sum(predictions_labels==1)/len(predictions_labels)\n",
        "    percentages[i] = BrdU_percentage"
      ],
      "metadata": {
        "id": "mkWwR4OS9jgx"
      },
      "execution_count": null,
      "outputs": []
    },
    {
      "cell_type": "markdown",
      "source": [
        "**Compare the % of Ts called as BrdU per reads in the mouse and human data**"
      ],
      "metadata": {
        "id": "EXUyUnMo4r7_"
      }
    },
    {
      "cell_type": "code",
      "source": [
        "filename = 'barcode02.BrdU_percentage'\n",
        "out_dir = '/content/drive/MyDrive'\n",
        "filename = 'barcode02.BrdU_percentage'\n",
        "with open(os.path.join(out_dir, ''.join([filename, '.pkl'])), 'wb') as file:\n",
        "  pickle.dump(percentages, file)\n",
        "\n",
        "brdu = np.where(percentages >= 0.09)\n",
        "read_id = np.array(pickle_files)[brdu]\n",
        "\n",
        "with open('/content/drive/MyDrive/Humand.read.IDs.with.ge.9%.T.called.as.BrdU.txt', 'w') as file:\n",
        "  print('\\n'.join(list(read_id)), file=file)\n"
      ],
      "metadata": {
        "id": "L4WKNwXDUuOQ"
      },
      "execution_count": null,
      "outputs": []
    },
    {
      "cell_type": "code",
      "source": [
        "## check %T called as BrdU in mouse data\n",
        "with open(\"/content/drive/MyDrive/barcode01.BrdU_percentage.pkl\", \"rb\") as file:\n",
        "    mouse_BrdU_percentage = pickle.load(file)\n",
        "mouse_BrdU_percentage = np.array(mouse_BrdU_percentage) *100\n",
        "print(mouse_BrdU_percentage)"
      ],
      "metadata": {
        "colab": {
          "base_uri": "https://localhost:8080/"
        },
        "id": "w_93tUNAWs2J",
        "outputId": "e58b0ebe-dbdc-471f-a822-605dd8aff693"
      },
      "execution_count": 2,
      "outputs": [
        {
          "output_type": "stream",
          "name": "stdout",
          "text": [
            "[3.7566678  4.58452722 4.05257393 ... 2.63024785 3.73937677 3.85375494]\n"
          ]
        }
      ]
    },
    {
      "cell_type": "code",
      "source": [
        "with open(\"/content/drive/MyDrive/barcode02.BrdU_percentage.pkl\", \"rb\") as file:\n",
        "    human_BrdU_percentage = pickle.load(file)\n",
        "human_BrdU_percentage = np.array(human_BrdU_percentage) *100\n",
        "print(human_BrdU_percentage)"
      ],
      "metadata": {
        "colab": {
          "base_uri": "https://localhost:8080/"
        },
        "id": "7Ui0rWOGmgPa",
        "outputId": "fbc0f35c-43ab-442d-d392-e4b868376dfb"
      },
      "execution_count": 3,
      "outputs": [
        {
          "output_type": "stream",
          "name": "stdout",
          "text": [
            "[ 4.49859419 16.06606607  4.69644903 ...  1.73160173 13.41544607\n",
            "  2.52935863]\n"
          ]
        }
      ]
    },
    {
      "cell_type": "code",
      "source": [
        "#generate a histogram for BrdU_percentage\n",
        "import matplotlib.pyplot as plt\n",
        "%matplotlib inline\n",
        "fig = plt.figure(figsize=(6, 3))\n",
        "# plotting first histogram\n",
        "\n",
        "plt.hist(mouse_BrdU_percentage, label='mouse', bins =100, alpha=.8, color='red', histtype= 'step')\n",
        "# plotting second histogram\n",
        "plt.hist(human_BrdU_percentage, label='human', bins =100,  alpha=.8, color='blue',  histtype= 'step')\n",
        "# plot a dashed vertical line at x=9\n",
        "plt.axvline(x=9, color='black', linestyle='--')\n",
        "\n",
        "plt.xlabel(\"% of T called as BrdU per read\")\n",
        "plt.ylabel(\"Frequency\")\n",
        "plt.xlim(0,25)\n",
        "plt.legend()\n",
        "plt.show();"
      ],
      "metadata": {
        "colab": {
          "base_uri": "https://localhost:8080/",
          "height": 311
        },
        "id": "k6jkWd12XMVc",
        "outputId": "e2be82a9-e8ec-4c0c-e68f-77521af50556"
      },
      "execution_count": 4,
      "outputs": [
        {
          "output_type": "display_data",
          "data": {
            "text/plain": [
              "<Figure size 600x300 with 1 Axes>"
            ],
            "image/png": "[encoded data removed]"
          },
          "metadata": {}
        }
      ]
    },
    {
      "cell_type": "code",
      "source": [
        "human_brdu_reads = (human_BrdU_percentage>=9).sum()\n",
        "mouse_brdu_reads = (mouse_BrdU_percentage>=9).sum()\n",
        "print(f'#Human reads with ge 10% of Ts called as BrdU: {human_brdu_reads}\\t{human_brdu_reads/len(human_BrdU_percentage)*100:.2f}%')\n",
        "print(f'#Mouse reads with ge 10% of Ts called as BrdU: {mouse_brdu_reads} \\t{mouse_brdu_reads/len(mouse_BrdU_percentage)*100:.2f}%')"
      ],
      "metadata": {
        "colab": {
          "base_uri": "https://localhost:8080/"
        },
        "id": "i1QFtYQipkNj",
        "outputId": "5938738b-97c8-4e61-b6a4-7fb12f95e665"
      },
      "execution_count": 5,
      "outputs": [
        {
          "output_type": "stream",
          "name": "stdout",
          "text": [
            "#Human reads with ge 10% of Ts called as BrdU: 604\t17.33%\n",
            "#Mouse reads with ge 10% of Ts called as BrdU: 17 \t0.55%\n"
          ]
        }
      ]
    }
  ],
  "metadata": {
    "colab": {
      "provenance": []
    },
    "kernelspec": {
      "display_name": "Python 3",
      "name": "python3"
    },
    "language_info": {
      "name": "python"
    }
  },
  "nbformat": 4,
  "nbformat_minor": 0
}